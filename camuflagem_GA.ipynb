{
  "nbformat": 4,
  "nbformat_minor": 0,
  "metadata": {
    "colab": {
      "provenance": [],
      "authorship_tag": "ABX9TyPuT5fce87OnfIsRCUTQcjQ",
      "include_colab_link": true
    },
    "kernelspec": {
      "name": "python3",
      "display_name": "Python 3"
    },
    "language_info": {
      "name": "python"
    }
  },
  "cells": [
    {
      "cell_type": "markdown",
      "metadata": {
        "id": "view-in-github",
        "colab_type": "text"
      },
      "source": [
        "<a href=\"https://colab.research.google.com/github/chaihermes/camuflagem/blob/main/camuflagem_GA.ipynb\" target=\"_parent\"><img src=\"https://colab.research.google.com/assets/colab-badge.svg\" alt=\"Open In Colab\"/></a>"
      ]
    },
    {
      "cell_type": "code",
      "execution_count": null,
      "metadata": {
        "id": "p1nyOXu0MLCs"
      },
      "outputs": [],
      "source": [
        "import random\n",
        "import numpy as np\n",
        "\n",
        "# Define the target background color (you can change these values as needed)\n",
        "target_color = (100, 150, 200)\n",
        "\n",
        "# Define parameters for the genetic algorithm\n",
        "population_size = 25\n",
        "num_generations = 100\n",
        "\n",
        "mutation_intensity = 0.001  # Mutation intensity as a percentage\n",
        "mutation_rate = 0.01 # Mutation Probability\n",
        "\n",
        "\n",
        "# Function to calculate the fitness of an individual color\n",
        "def calculate_fitness(color):\n",
        "    # Fitness is the sum of the absolute differences from the target color\n",
        "    return sum(abs(color[i] - target_color[i]) for i in range(3))\n",
        "\n",
        "# Generate a random population of colors\n",
        "def generate_random_population(size):\n",
        "    return [(random.randint(0, 255), random.randint(0, 255), random.randint(0, 255)) for _ in range(size)]\n",
        "\n",
        "# Perform one-point crossover\n",
        "def crossover(parent1, parent2):\n",
        "    crossover_point = random.randint(1, 2)\n",
        "    child1 = parent1[:crossover_point] + parent2[crossover_point:]\n",
        "    child2 = parent2[:crossover_point] + parent1[crossover_point:]\n",
        "    return child1, child2\n",
        "\n",
        "\n",
        "# Perform mutation by changing colors with a specified intensity\n",
        "def mutate(color, intensity=mutation_intensity, sigma=1):\n",
        "\n",
        "    mutated_color = list(color)\n",
        "\n",
        "    for i in range(3):\n",
        "        if random.random() < mutation_rate:\n",
        "            # mutated_color[i] = int(color[i] * (1 + (random.choice([-1, 1])) * mutation_intensity)) ## percentage mutation\n",
        "            mutated_color[i] += round(np.random.normal(0, sigma)) # Gaussian mutation\n",
        "    return tuple(mutated_color)\n",
        "\n",
        "\n",
        "if __name__ == '__main__':\n",
        "    # Main genetic algorithm loop\n",
        "    population = generate_random_population(population_size)\n",
        "\n",
        "    # Lists to store best fitness and generation for plotting\n",
        "    best_fitness_values = []\n",
        "    best_colors = []\n",
        "\n",
        "    for generation in range(num_generations):\n",
        "        population = sorted(population, key=calculate_fitness)\n",
        "\n",
        "        best_fitness = calculate_fitness(population[0])\n",
        "        best_color = population[0]\n",
        "        best_fitness_values.append(best_fitness)\n",
        "        best_colors.append(best_color)\n",
        "\n",
        "        print(f\"Generation {generation}: Best fitness = {best_fitness}, Best color = {best_color}, Target = {target_color}\")\n",
        "\n",
        "\n",
        "\n",
        "        new_population = [population[0]]  # Keep the best individual\n",
        "        while len(new_population) < population_size:\n",
        "            parent1, parent2 = random.choices(population[:10], k=2)  # Select parents from the top 10 individuals\n",
        "            child1, child2 = crossover(parent1, parent2)\n",
        "            child1 = mutate(child1)\n",
        "            child2 = mutate(child2)\n",
        "            new_population.extend([child1, child2])\n",
        "\n",
        "        population = new_population\n",
        "\n",
        "    # Print the best color found\n",
        "    best_color = population[0]\n",
        "    print(f\"Best Color: {best_color}\")"
      ]
    }
  ]
}