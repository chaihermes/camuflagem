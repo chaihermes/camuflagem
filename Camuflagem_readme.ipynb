{
  "nbformat": 4,
  "nbformat_minor": 0,
  "metadata": {
    "colab": {
      "provenance": [],
      "authorship_tag": "ABX9TyMSJQInuVN1EG4fH6+9E1l/",
      "include_colab_link": true
    },
    "kernelspec": {
      "name": "python3",
      "display_name": "Python 3"
    },
    "language_info": {
      "name": "python"
    }
  },
  "cells": [
    {
      "cell_type": "markdown",
      "metadata": {
        "id": "view-in-github",
        "colab_type": "text"
      },
      "source": [
        "<a href=\"https://colab.research.google.com/github/chaihermes/camuflagem/blob/main/Camuflagem_readme.ipynb\" target=\"_parent\"><img src=\"https://colab.research.google.com/assets/colab-badge.svg\" alt=\"Open In Colab\"/></a>"
      ]
    },
    {
      "cell_type": "markdown",
      "source": [
        "# Matrix of Squares Genetic Algorithm\n",
        "\n",
        "This repository contains a simple interactive Python program that demonstrates a genetic algorithm optimizing a matrix of colored squares to match a target color, simulating the camouflage effect on nature.\n",
        "\n",
        "## Prerequisites\n",
        "\n",
        "Before running the program, make sure you have the following installed:\n",
        "\n",
        "- Python 3\n",
        "- Pygame library: `pip install pygame`\n",
        "- Matplotlib library: `pip install matplotlib`\n",
        "- Numpy library: `pip install numpy`\n",
        "\n",
        "## How to Run\n",
        "\n",
        "Execute the following command in your terminal to run the program:\n",
        "\n",
        "```bash\n",
        "python run.py\n",
        "```\n",
        "\n",
        "## Instructions\n",
        "\n",
        "- **Quit the Program:** Press the 'q' key to quit the program.\n",
        "\n",
        "## Genetic Algorithm Parameters\n",
        "\n",
        "The genetic algorithm is configured with the following parameters:\n",
        "\n",
        "- **Population Size:** 25\n",
        "- **Number of Generations:** 100\n",
        "- **Mutation Intensity:** 0.001 (Percentage mutation intensity)\n",
        "- **Mutation Rate:** 0.01 (Mutation probability)\n",
        "\n",
        "You can change these values and see what happens to the execution.\n",
        "\n",
        "## Code Structure\n",
        "\n",
        "- **run.py:** The main script containing the Pygame loop and genetic algorithm logic.\n",
        "- **genetic_algorithm.py:** Module with genetic algorithm functions (crossover, mutation, fitness calculation).\n",
        "\n",
        "## Genetic Algorithm Process\n",
        "\n",
        "1. **Initialization:** Randomly generates a population of colored matrices.\n",
        "2. **Evaluation:** Calculates the fitness of each individual in the population based on the color difference from the target color.\n",
        "3. **Selection:** Sorts the population based on fitness and selects the top individuals.\n",
        "4. **Crossover:** Performs one-point crossover on selected parents to create new individuals.\n",
        "5. **Mutation:** Introduces random mutations in the color values of individuals.\n",
        "6. **Next Generation:** Forms a new population using the best individuals from the previous generation and the newly created ones.\n",
        "7. **Repeat:** Iterates through the specified number of generations.\n",
        "\n",
        "## Visualization\n",
        "\n",
        "The program visualizes the optimization process by displaying the best fitness value and the corresponding matrix of colored squares at each generation. The target color and the best color found are also displayed for comparison.\n",
        "\n",
        "Feel free to explore and modify the code to experiment with different genetic algorithm configurations and applications.\n",
        "\n",
        "\n",
        "## How to Contribute\n",
        "\n",
        "We welcome contributions to improve and enhance the functionality of this genetic algorithm demonstration. If you're interested in contributing, follow these steps:\n",
        "\n",
        "1. Fork the repository to your GitHub account.\n",
        "2. Clone the forked repository to your local machine.\n",
        "3. Make your desired changes and improvements.\n",
        "4. Test your changes to ensure they work as expected.\n",
        "5. Commit your changes with clear and concise commit messages.\n",
        "6. Push the changes to your GitHub repository.\n",
        "7. Create a pull request from your repository to the original repository.\n",
        "\n",
        "Contributions can include bug fixes, feature additions, documentation improvements, or any other enhancements that can benefit the project. Feel free to open an issue for discussions before making significant changes.\n",
        "\n",
        "## How to Cite\n",
        "\n",
        "If you use or refer to this genetic algorithm demonstration in your research or work, please consider citing it. You can use the following BibTeX entry as a reference:\n",
        "\n",
        "```bibtex\n",
        "@misc{camouflage-genetic-algorithm,\n",
        "  author       = {Polimante, Sergio},\n",
        "  title        = {Camouflage Genetic Algorithm},\n",
        "  howpublished = {\\url{https://github.com/yourusername/matrix-genetic-algorithm}},\n",
        "  year         = {2024},\n",
        "}\n",
        "```"
      ],
      "metadata": {
        "id": "z_wQ3t7iMC_T"
      }
    }
  ]
}